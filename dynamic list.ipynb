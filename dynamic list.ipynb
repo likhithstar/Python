{
 "cells": [
  {
   "cell_type": "code",
   "execution_count": 4,
   "id": "e7b1c0cc",
   "metadata": {},
   "outputs": [
    {
     "name": "stdout",
     "output_type": "stream",
     "text": [
      "Enter size of a list: 5\n",
      "Enter element name: apple\n",
      "Enter element name: banana\n",
      "Enter element name: cherry\n",
      "Enter element name: grapes\n",
      "Enter element name: orange\n",
      "['apple', 'banana', 'cherry', 'grapes', 'orange']\n"
     ]
    }
   ],
   "source": [
    "l=[]\n",
    "a = int(input(\"Enter size of a list: \"))\n",
    "\n",
    "for i in range(1,a+1):\n",
    "    \n",
    "    b = input(\"Enter element name: \")\n",
    "    \n",
    "    l.insert(i-1,b)\n",
    "print(l)"
   ]
  }
 ],
 "metadata": {
  "kernelspec": {
   "display_name": "Python 3 (ipykernel)",
   "language": "python",
   "name": "python3"
  },
  "language_info": {
   "codemirror_mode": {
    "name": "ipython",
    "version": 3
   },
   "file_extension": ".py",
   "mimetype": "text/x-python",
   "name": "python",
   "nbconvert_exporter": "python",
   "pygments_lexer": "ipython3",
   "version": "3.9.13"
  }
 },
 "nbformat": 4,
 "nbformat_minor": 5
}
