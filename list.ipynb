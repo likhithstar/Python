{
 "cells": [
  {
   "cell_type": "code",
   "execution_count": 7,
   "id": "3d74b930",
   "metadata": {},
   "outputs": [
    {
     "name": "stdout",
     "output_type": "stream",
     "text": [
      "['apple', 'strawberry', 'pineapple', 'grapes', 'mango', 'banana', 'orange', 'watermelon']\n",
      "Enter a remove fruit name: apple\n",
      "Enter a replace fruit name: cherry\n",
      "['cherry', 'strawberry', 'pineapple', 'grapes', 'mango', 'banana', 'orange', 'watermelon']\n"
     ]
    }
   ],
   "source": [
    "# Program to demonistrate replacing a element in list in static.\n",
    "\n",
    "x = [\"apple\",\"strawberry\",\"pineapple\",\"grapes\",\"mango\",\"banana\",\"orange\",\"watermelon\"] # list of items.\n",
    "\n",
    "print(x) # print the list before replace the element\n",
    "\n",
    "a = input(\"Enter a remove fruit name: \") # enter which element want to remove.\n",
    "\n",
    "b = x.index(a) # b stores the index value of removing element in the list.\n",
    "\n",
    "x.remove(a) # it removes the element in the list\n",
    "\n",
    "c = input(\"Enter a replace fruit name: \") # enter which element want to replace\n",
    "\n",
    "x.insert(b,c) # it insects the element in index =b and element = c\n",
    "\n",
    "print(x) # print the list after replace the element"
   ]
  }
 ],
 "metadata": {
  "kernelspec": {
   "display_name": "Python 3 (ipykernel)",
   "language": "python",
   "name": "python3"
  },
  "language_info": {
   "codemirror_mode": {
    "name": "ipython",
    "version": 3
   },
   "file_extension": ".py",
   "mimetype": "text/x-python",
   "name": "python",
   "nbconvert_exporter": "python",
   "pygments_lexer": "ipython3",
   "version": "3.9.13"
  }
 },
 "nbformat": 4,
 "nbformat_minor": 5
}
